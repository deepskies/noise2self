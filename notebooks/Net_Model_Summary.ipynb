{
 "cells": [
  {
   "cell_type": "code",
   "execution_count": 1,
   "metadata": {},
   "outputs": [
    {
     "name": "stdout",
     "output_type": "stream",
     "text": [
      "/home/aruba19th/noise2self\n"
     ]
    }
   ],
   "source": [
    "%load_ext autoreload\n",
    "\n",
    "%autoreload 2\n",
    "import sys\n",
    "%cd noise2self"
   ]
  },
  {
   "cell_type": "code",
   "execution_count": null,
   "metadata": {},
   "outputs": [],
   "source": [
    "!git clone https://github.com/deepskies/noise2self.git"
   ]
  },
  {
   "cell_type": "code",
   "execution_count": 2,
   "metadata": {},
   "outputs": [],
   "source": [
    "from glob import glob\n",
    "import os\n",
    "from collections import defaultdict, Counter\n",
    "from skimage.io import imread\n",
    "import numpy as np\n",
    "import matplotlib.pyplot as plt\n",
    "from torch.utils.data import Dataset\n",
    "from astropy.io import fits\n",
    "from torch import Tensor\n",
    "import math"
   ]
  },
  {
   "cell_type": "code",
   "execution_count": 3,
   "metadata": {},
   "outputs": [],
   "source": [
    "from util import show, plot_images, plot_tensors, plot_grid\n",
    "from util import clean_two_channel_data, clean_three_channel_data, clamp_data\n",
    "from models.babyunet import BabyUnet\n",
    "from models.dncnn import DnCNN\n",
    "from models.dnfcn8 import DnFCN8\n",
    "from models.singleconv import SingleConvolution\n",
    "from util import getbestgpu"
   ]
  },
  {
   "cell_type": "code",
   "execution_count": 4,
   "metadata": {},
   "outputs": [
    {
     "name": "stdout",
     "output_type": "stream",
     "text": [
      "/home/aruba19th\n"
     ]
    }
   ],
   "source": [
    "cd .."
   ]
  },
  {
   "cell_type": "code",
   "execution_count": 8,
   "metadata": {},
   "outputs": [
    {
     "name": "stdout",
     "output_type": "stream",
     "text": [
      "Cloning into 'pytorch-summary'...\n",
      "remote: Enumerating objects: 44, done.\u001b[K\n",
      "remote: Counting objects: 100% (44/44), done.\u001b[K\n",
      "remote: Compressing objects: 100% (29/29), done.\u001b[K\n",
      "remote: Total 186 (delta 13), reused 33 (delta 7), pack-reused 142\u001b[K\n",
      "Receiving objects: 100% (186/186), 38.50 KiB | 0 bytes/s, done.\n",
      "Resolving deltas: 100% (62/62), done.\n"
     ]
    }
   ],
   "source": [
    "!git clone https://github.com/sksq96/pytorch-summary.git"
   ]
  },
  {
   "cell_type": "code",
   "execution_count": 9,
   "metadata": {},
   "outputs": [
    {
     "name": "stdout",
     "output_type": "stream",
     "text": [
      "/home/aruba19th/pytorch-summary\n"
     ]
    }
   ],
   "source": [
    "%cd pytorch-summary\n",
    "from torchsummary import summary"
   ]
  },
  {
   "cell_type": "code",
   "execution_count": 10,
   "metadata": {},
   "outputs": [
    {
     "name": "stdout",
     "output_type": "stream",
     "text": [
      "/home/aruba19th\n"
     ]
    }
   ],
   "source": [
    "cd .."
   ]
  },
  {
   "cell_type": "code",
   "execution_count": 11,
   "metadata": {},
   "outputs": [],
   "source": [
    "class ThreeChannelGalaxyDataset(Dataset):\n",
    "    def __init__(self, type):\n",
    "        self.fnames = glob(\"galfit_final_sims/*snr100.0*.gz\") #5.0 10.0 20.0 50.0 100.0\n",
    "        #self.fnames = glob(\"cutouts_v1/*.gz\")\n",
    "        self.files_length = len(self.fnames)\n",
    "\n",
    "        self.train_len = math.floor(self.files_length * .8)\n",
    "        self.val_len = math.floor(self.files_length * .1)\n",
    "        self.test_len = math.floor(self.files_length* .1 )\n",
    "\n",
    "        self.data = self._load_data(type)\n",
    "        self.data = self._clean()\n",
    "        self.type = type\n",
    "\n",
    "    \n",
    "    def __len__(self):\n",
    "        return len(self.data)\n",
    "\n",
    "    def _load_data(self, type):\n",
    "        galaxies = []\n",
    "        if type == \"train\":\n",
    "            for i in range(self.train_len):\n",
    "                galaxies.append(fits.open(self.fnames[i])[0].data[:3])\n",
    "\n",
    "                if i % 50 == 0:\n",
    "                    print(f'{i/self.train_len} Done')\n",
    "\n",
    "        elif type == \"validate\":\n",
    "            for i in range(self.train_len, self.train_len + self.val_len):\n",
    "                galaxies.append(fits.open(self.fnames[i])[0].data[:3])\n",
    "                if i % 50 == 0:\n",
    "                    print(f'{(i - self.train_len)/self.val_len} Done')\n",
    "\n",
    "        elif type == \"test\":\n",
    "            for i in range(self.train_len + self.val_len, self.train_len + self.val_len+self.test_len):\n",
    "                galaxies.append(fits.open(self.fnames[i])[0].data[:3])\n",
    "                if i % 50 == 0:\n",
    "                     print(f'{(i - (self.train_len + self.val_len))/self.test_len} Done')\n",
    "\n",
    "        galaxies = np.stack(galaxies)\n",
    "        print(galaxies.shape)\n",
    "        return galaxies\n",
    "\n",
    "    def _clean(self):\n",
    "        return clamp_data(clean_three_channel_data(self.data))\n",
    "\n",
    "    def __getitem__(self, idx):\n",
    "        channels = self.data[idx]\n",
    "        idx1 = np.random.randint(0, 3)\n",
    "        idx2 = idx1\n",
    "        while idx2 == idx1:\n",
    "              idx2 = np.random.randint(0, 3)\n",
    "\n",
    "        pair = np.stack([channels[idx1], channels[idx2]])\n",
    "\n",
    "        return np.array(pair[:,:128,:128]/255)\n",
    "\n",
    "    def get_full_batch(self, idx):\n",
    "        return self.data[idx]  "
   ]
  },
  {
   "cell_type": "code",
   "execution_count": 12,
   "metadata": {},
   "outputs": [
    {
     "name": "stdout",
     "output_type": "stream",
     "text": [
      "0.0 Done\n",
      "0.06944444444444445 Done\n",
      "0.1388888888888889 Done\n",
      "0.20833333333333334 Done\n",
      "0.2777777777777778 Done\n",
      "0.3472222222222222 Done\n",
      "0.4166666666666667 Done\n",
      "0.4861111111111111 Done\n",
      "0.5555555555555556 Done\n",
      "0.625 Done\n",
      "0.6944444444444444 Done\n",
      "0.7638888888888888 Done\n",
      "0.8333333333333334 Done\n",
      "0.9027777777777778 Done\n",
      "0.9722222222222222 Done\n",
      "(720, 3, 128, 128)\n",
      "0.3333333333333333 Done\n",
      "0.8888888888888888 Done\n",
      "(90, 3, 128, 128)\n",
      "0.4444444444444444 Done\n",
      "(90, 3, 128, 128)\n"
     ]
    }
   ],
   "source": [
    "train_data = ThreeChannelGalaxyDataset(\"train\")\n",
    "val_data = ThreeChannelGalaxyDataset(\"validate\")\n",
    "test_data = ThreeChannelGalaxyDataset(\"test\")"
   ]
  },
  {
   "cell_type": "code",
   "execution_count": 13,
   "metadata": {},
   "outputs": [],
   "source": [
    "import torch\n",
    "# device = getbestgpu()\n",
    "device = 'cuda'\n",
    "from torch.nn import MSELoss, L1Loss, SmoothL1Loss\n",
    "from torch.optim import Adam\n",
    "from torch.utils.data import DataLoader"
   ]
  },
  {
   "cell_type": "code",
   "execution_count": 14,
   "metadata": {},
   "outputs": [],
   "source": [
    "#model = BabyUnet()\n",
    "#model = DnCNN(1)\n",
    "model = DnFCN8(1)\n",
    "#model = SingleConvolution()\n",
    "model.to(device)\n",
    "#loss_function = MSELoss()\n",
    "loss_function = L1Loss()\n",
    "optimizer = Adam(model.parameters(), lr= .00005)\n",
    "\n",
    "train_loader = DataLoader(train_data, batch_size=10, shuffle=False)\n",
    "val_loader = DataLoader(val_data, batch_size=10, shuffle=False)\n",
    "test_loader = DataLoader(test_data, batch_size=10, shuffle=False)"
   ]
  },
  {
   "cell_type": "code",
   "execution_count": 15,
   "metadata": {},
   "outputs": [
    {
     "name": "stdout",
     "output_type": "stream",
     "text": [
      "----------------------------------------------------------------\n",
      "        Layer (type)               Output Shape         Param #\n",
      "================================================================\n",
      "       BatchNorm2d-1          [-1, 1, 128, 128]               2\n",
      "            Conv2d-2         [-1, 64, 128, 128]             640\n",
      "            Conv2d-3         [-1, 64, 128, 128]          36,928\n",
      "            Conv2d-4          [-1, 1, 128, 128]              65\n",
      "         MaxPool2d-5           [-1, 64, 64, 64]               0\n",
      "       BatchNorm2d-6           [-1, 64, 64, 64]             128\n",
      "            Conv2d-7          [-1, 128, 64, 64]          73,856\n",
      "            Conv2d-8          [-1, 128, 64, 64]         147,584\n",
      "         MaxPool2d-9          [-1, 128, 32, 32]               0\n",
      "      BatchNorm2d-10          [-1, 128, 32, 32]             256\n",
      "           Conv2d-11          [-1, 256, 32, 32]         295,168\n",
      "           Conv2d-12          [-1, 256, 32, 32]         590,080\n",
      "           Conv2d-13          [-1, 256, 32, 32]         590,080\n",
      "        MaxPool2d-14          [-1, 256, 16, 16]               0\n",
      "           Conv2d-15           [-1, 32, 16, 16]           8,224\n",
      "  ConvTranspose2d-16          [-1, 1, 128, 128]           2,049\n",
      "      BatchNorm2d-17          [-1, 256, 16, 16]             512\n",
      "           Conv2d-18          [-1, 512, 16, 16]       1,180,160\n",
      "           Conv2d-19          [-1, 512, 16, 16]       2,359,808\n",
      "           Conv2d-20          [-1, 512, 16, 16]       2,359,808\n",
      "        MaxPool2d-21            [-1, 512, 8, 8]               0\n",
      "           Conv2d-22             [-1, 64, 8, 8]          32,832\n",
      "  ConvTranspose2d-23          [-1, 1, 128, 128]          16,385\n",
      "      BatchNorm2d-24            [-1, 512, 8, 8]           1,024\n",
      "           Conv2d-25            [-1, 512, 8, 8]       2,359,808\n",
      "           Conv2d-26            [-1, 512, 8, 8]       2,359,808\n",
      "           Conv2d-27            [-1, 512, 8, 8]       2,359,808\n",
      "        MaxPool2d-28            [-1, 512, 4, 4]               0\n",
      "      BatchNorm2d-29            [-1, 512, 4, 4]           1,024\n",
      "           Conv2d-30           [-1, 4096, 4, 4]       2,101,248\n",
      "           Conv2d-31           [-1, 4096, 4, 4]      16,781,312\n",
      "           Conv2d-32            [-1, 128, 4, 4]         524,416\n",
      "  ConvTranspose2d-33          [-1, 1, 128, 128]         131,073\n",
      "           Conv2d-34         [-1, 64, 128, 128]           2,368\n",
      "      BatchNorm2d-35         [-1, 64, 128, 128]             128\n",
      "           Conv2d-36         [-1, 64, 128, 128]          36,928\n",
      "      BatchNorm2d-37         [-1, 64, 128, 128]             128\n",
      "           Conv2d-38         [-1, 64, 128, 128]          36,928\n",
      "      BatchNorm2d-39         [-1, 64, 128, 128]             128\n",
      "           Conv2d-40         [-1, 64, 128, 128]          36,928\n",
      "      BatchNorm2d-41         [-1, 64, 128, 128]             128\n",
      "           Conv2d-42         [-1, 64, 128, 128]          36,928\n",
      "      BatchNorm2d-43         [-1, 64, 128, 128]             128\n",
      "           Conv2d-44         [-1, 64, 128, 128]          36,928\n",
      "      BatchNorm2d-45         [-1, 64, 128, 128]             128\n",
      "           Conv2d-46         [-1, 64, 128, 128]          36,928\n",
      "      BatchNorm2d-47         [-1, 64, 128, 128]             128\n",
      "           Conv2d-48         [-1, 64, 128, 128]          36,928\n",
      "      BatchNorm2d-49         [-1, 64, 128, 128]             128\n",
      "           Conv2d-50         [-1, 64, 128, 128]          36,928\n",
      "      BatchNorm2d-51         [-1, 64, 128, 128]             128\n",
      "           Conv2d-52          [-1, 1, 128, 128]             577\n",
      "           DnFCN8-53          [-1, 1, 128, 128]               0\n",
      "================================================================\n",
      "Total params: 34,613,607\n",
      "Trainable params: 34,613,607\n",
      "Non-trainable params: 0\n",
      "----------------------------------------------------------------\n",
      "Input size (MB): 0.06\n",
      "Forward/backward pass size (MB): 187.36\n",
      "Params size (MB): 132.00\n",
      "Estimated Total Size (MB): 319.00\n",
      "----------------------------------------------------------------\n",
      "\n"
     ]
    },
    {
     "data": {
      "text/plain": [
       "(tensor(34613607), tensor(34613607))"
      ]
     },
     "execution_count": 15,
     "metadata": {},
     "output_type": "execute_result"
    }
   ],
   "source": [
    "summary(model, input_size=(1, 128, 128))"
   ]
  },
  {
   "cell_type": "code",
   "execution_count": null,
   "metadata": {},
   "outputs": [
    {
     "name": "stdout",
     "output_type": "stream",
     "text": [
      "Loss ( 0 ): \t 0.124152\n",
      "Loss ( 1 ): \t 0.012248\n",
      "Loss ( 2 ): \t 0.009631\n",
      "Loss ( 3 ): \t 0.008939\n",
      "Loss ( 4 ): \t 0.008623\n",
      "Loss ( 5 ): \t 0.008485\n",
      "Loss ( 6 ): \t 0.008461\n",
      "Loss ( 7 ): \t 0.008327\n",
      "Loss ( 8 ): \t 0.008291\n"
     ]
    }
   ],
   "source": [
    "n_epochs = 20 #1200\n",
    "best_loss = 100000\n",
    "\n",
    "# Keeps track of losses\n",
    "train_losses = []\n",
    "val_losses = []\n",
    "\n",
    "best_model={}\n",
    "\n",
    "for epoch in range(n_epochs):\n",
    "  \n",
    "    train_loss = 0\n",
    "    model = model.train()\n",
    "    for i, batch in enumerate(train_loader):\n",
    "        batch = batch.to(torch.float)\n",
    "        noisy_images_1, noisy_images_2 = batch[:, 0:1], batch[:, 1:2]\n",
    "        noisy_images_1 = noisy_images_1.to(device)\n",
    "        noisy_images_2 = noisy_images_2.to(device)\n",
    "\n",
    "        net_output = model(noisy_images_1)\n",
    "\n",
    "        loss = loss_function(net_output, noisy_images_2)\n",
    "        train_loss += loss.cpu().item()\n",
    "        \n",
    "        optimizer.zero_grad()\n",
    "\n",
    "        loss.backward()\n",
    "\n",
    "        optimizer.step()\n",
    "        \n",
    "    train_losses.append(train_loss/len(train_loader))\n",
    "    # Keeps track of loss over 10 epochs\n",
    "    if epoch % 1 == 0:\n",
    "        print(\"Loss (\", epoch, \"): \\t\", round(train_loss/len(train_loader), 6))\n",
    "        \n",
    "    val_loss = 0\n",
    "    with torch.no_grad():\n",
    "        model = model.eval()\n",
    "    \n",
    "    for i, batch in enumerate(val_loader):\n",
    "        batch = batch.to(torch.float)\n",
    "        noisy_images_1, noisy_images_2 = batch[:, 0:1], batch[:, 1:2]\n",
    "        noisy_images_1 = noisy_images_1.to(device)\n",
    "        noisy_images_2 = noisy_images_2.to(device)\n",
    "\n",
    "        net_output = model(noisy_images_1)\n",
    "\n",
    "        loss = loss_function(net_output, noisy_images_2)  \n",
    "        val_loss += loss.cpu().item()\n",
    "        \n",
    "    val_losses.append(val_loss/len(val_loader))\n",
    "    if val_loss < best_loss:\n",
    "        best_loss = val_loss\n",
    "        best_model = model.state_dict()\n",
    "        \n",
    "    optimizer.zero_grad()\n",
    "    #torch.save(model,'Track_training/DnCnn/epoch'+str(epoch)+'SNR_100.pt')\n",
    "    torch.save(model,'Track_training/DnFcn8/epoch'+str(epoch)+'SNR_100.pt')"
   ]
  },
  {
   "cell_type": "code",
   "execution_count": null,
   "metadata": {},
   "outputs": [],
   "source": [
    "# Plot losses\n",
    "import matplotlib.pyplot as plt\n",
    "\n",
    "plt.plot(train_losses,color='b',label='train_losses')\n",
    "plt.plot(val_losses,color='r',label='val_losses')\n",
    "plt.xlabel('training_epoch')\n",
    "plt.ylabel('Loss')\n",
    "#plt.title('loss history of DnCnn')\n",
    "plt.title('loss history of DnFcn8')\n",
    "plt.legend()"
   ]
  },
  {
   "cell_type": "code",
   "execution_count": null,
   "metadata": {},
   "outputs": [],
   "source": [
    "test_data_real = ThreeChannelGalaxyDataset(\"test\")\n",
    "test_loader = DataLoader(test_data_real, batch_size=1, shuffle=False)"
   ]
  },
  {
   "cell_type": "code",
   "execution_count": null,
   "metadata": {},
   "outputs": [],
   "source": [
    "files = glob(\"galfit_final_sims/*snr100.0*.gz\")\n",
    "files_length = len(files)\n",
    "train_len = math.floor(files_length * .8)\n",
    "val_len = math.floor(files_length* .1 )\n",
    "\n",
    "    \n",
    "for i, batch in enumerate(test_loader):\n",
    "    frame = np.zeros((6,128,128))\n",
    "    for j in range(0,18,3):  \n",
    "        #model = torch.load('Track_training/DnCnn/epoch'+str(j)+'SNR_100.pt')\n",
    "        model = torch.load('Track_training/DnFcn8/epoch'+str(j)+'SNR_100.pt')\n",
    "        with torch.no_grad():\n",
    "            model = model.eval()\n",
    "        batch = batch.to(torch.float)\n",
    "        noisy_images_1, noisy_images_2 = batch[:, 0:1], batch[:, 1:2]\n",
    "        noisy_images_1 = noisy_images_1.to(device)\n",
    "        noisy_images_2 = noisy_images_2.to(device)\n",
    "\n",
    "        output = model(noisy_images_1)\n",
    "        \n",
    "        img = fits.open(files[train_len+val_len+i])\n",
    "        gtr = img[2].data #ground truth\n",
    "        img = img[0].data #noisy image\n",
    "        \n",
    "        np_array = output.cpu().detach().numpy()\n",
    "        \n",
    "        frame[int(j/3)] = img[0] - np_array[0,0]*255 \n",
    "    \n",
    "    fig, axes = plt.subplots(nrows=1, ncols=6)\n",
    "    for u, ax in enumerate(axes):\n",
    "        im = ax.imshow(frame[u])\n",
    "\n",
    "    fig.subplots_adjust(right=4)\n",
    "    cbar_ax = fig.add_axes([0.8, 0.1, 0.1, 0.8])\n",
    "    fig.colorbar(im, cax=cbar_ax)\n",
    "    plt.show()\n",
    "        "
   ]
  },
  {
   "cell_type": "code",
   "execution_count": null,
   "metadata": {},
   "outputs": [],
   "source": []
  }
 ],
 "metadata": {
  "kernelspec": {
   "display_name": "Python 3",
   "language": "python",
   "name": "python3"
  },
  "language_info": {
   "codemirror_mode": {
    "name": "ipython",
    "version": 3
   },
   "file_extension": ".py",
   "mimetype": "text/x-python",
   "name": "python",
   "nbconvert_exporter": "python",
   "pygments_lexer": "ipython3",
   "version": "3.7.4"
  }
 },
 "nbformat": 4,
 "nbformat_minor": 2
}
